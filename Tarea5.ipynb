{
 "cells": [
  {
   "cell_type": "markdown",
   "metadata": {},
   "source": [
    "<img style=\"float: left; margin: 30px 15px 15px 15px;\" src=\"https://pngimage.net/wp-content/uploads/2018/06/logo-iteso-png-5.png\" width=\"300\" height=\"500\" /> \n",
    "    \n",
    "    \n",
    "### <font color='navy'> Simulación de procesos financieros. \n",
    "\n",
    "**Nombres:** Fernanda Amador, Frida Hernandez\n",
    "\n",
    "**Fecha:** 12 de Octubre 2021.\n",
    "\n",
    "**Expediente** : 725573, 720476.\n",
    " \n",
    "**Profesor:** Oscar David Jaramillo Zuluaga.\n",
    "    \n",
    "**Link Github**: https://github.com/feramdor/Tarea5_Amador_Hernandez\n",
    "# Tarea 5: Clase 9"
   ]
  },
  {
   "cell_type": "markdown",
   "metadata": {},
   "source": [
    "## Instrucciones"
   ]
  },
  {
   "cell_type": "code",
   "execution_count": 22,
   "metadata": {},
   "outputs": [],
   "source": [
    "import numpy as np\n",
    "import matplotlib.pyplot as plt\n",
    "%matplotlib inline\n",
    "import pandas as pd"
   ]
  },
  {
   "cell_type": "markdown",
   "metadata": {},
   "source": [
    ">### <font color ='red'> **Tarea 4** \n",
    "    \n",
    "> Para las siguiente dos funciones, genere muestres aleatorias que distribuyan según la función dada usando el método de la transformada inversa y grafique el histograma de 1000 muestras generadas con el método de la transformada inversa y compárela con el función $f(x)$ **(recuerde que $f(x)$ es la distribución de probabilidad y $F(x)$ es la distribución de probabilidad acumulada)** [ver este enlace para más información](https://es.wikipedia.org/wiki/Funci%C3%B3n_de_distribuci%C3%B3n). Este procedimiento se realiza con el fín de validar que el procedimiento y los resultados son correctos.\n",
    "    \n",
    "> 1. Generación variable aleatoria continua\n",
    ">El tiempo en el cual un movimiento browniano se mantiene sobre su punto máximo en el intervalo [0,1] tiene una distribución\n",
    ">$$F(x)=\\frac{2}{\\pi}\\sin^{-1}(\\sqrt x),\\quad 0\\leq x\\leq 1$$ </font>\n",
    "\n",
    "> 2. Generación variable aleatoria Discreta\n",
    "> La distribución binomial modela el número de éxitos de n ensayos independientes donde hay una probabilidad p de éxito en cada ensayo.\n",
    "> Generar una variable aletoria binomial con parámetros $n=10$ y $p=0.7$. Recordar que $$X\\sim binomial(n,p) \\longrightarrow p_i=P(X=i)=\\frac{n!}{i!(n-i)!}p^i(1-p)^{n-i},\\quad i=0,1,\\cdots,n$$\n",
    "> Por propiedades de la operación factorial la anterior $p_i$ se puede escribir como:\n",
    "> $$p_{i+1}=\\frac{n-i}{i+1}\\frac{p}{1-p} p_i $$\n",
    "\n",
    "> **Nota:** Por notación recuerde que para el caso continuo $f(x)$ es la distribución de probabilidad (PDF), mientras $F(x)$ corresponde a la distribución de probabilidad acumulada (CDF). Para el caso discreto, $P(X=i)$ corresponde a su distribución de probabilidad (PMF) y $ F_{X}(x)=\\operatorname {P} (X\\leq x)=\\sum _{x_{i}\\leq x}\\operatorname {P} (X=x_{i})=\\sum _{x_{i}\\leq x}p(x_{i})$, corresponde a su distribución de probabilidad acumulada (CDF).\n"
   ]
  },
  {
   "cell_type": "markdown",
   "metadata": {},
   "source": [
    "#### Código de solución `Estudiante 1: Frida Hernández`"
   ]
  },
  {
   "cell_type": "markdown",
   "metadata": {},
   "source": [
    "#### Inciso 1\n",
    "* Inversa de la función igual a $U$\n",
    "$$U=\\frac{2}{\\pi}\\sin^{-1}(\\sqrt x)$$\n",
    "$$\\frac{U\\pi}{2}=\\sin^{-1}(\\sqrt x)$$\n",
    "$$\\sin^{-1}\\frac{U\\pi}{2}=(\\sqrt x)$$\n",
    "$$(\\sin^{-1}\\frac{U\\pi}{2})^2=x$$"
   ]
  },
  {
   "cell_type": "code",
   "execution_count": 23,
   "metadata": {},
   "outputs": [],
   "source": [
    "# función\n",
    "N = 1000\n",
    "def D_continua(N):\n",
    "    return (np.sin((np.random.random(N)*np.pi)/2))**2\n",
    "x = D_continua(N)"
   ]
  },
  {
   "cell_type": "markdown",
   "metadata": {},
   "source": [
    "$$F(x) = \\frac{2}{\\pi}\\sin^{-1}(\\sqrt{x})$$\n",
    "\n",
    "\n",
    "$$F(x) =  \\frac{2}{\\pi}\\sin^{-1}(a)$$\n",
    "\n",
    "\n",
    "\n",
    "$$a = \\sqrt{x} $$\n",
    "\n",
    "* Derivada de $a$\n",
    "\n",
    "$$\\frac{d}{dx} = \\frac{1}{2\\sqrt{x}}$$\n",
    "\n",
    "* Derivada de arcoseno:\n",
    "\n",
    "$$\\frac{d}{dx} = \\frac{1}{\\sqrt{1-x^2}}$$\n",
    "\n",
    "* Volver a derivar la principal\n",
    "$$\\frac{dF(x)}{dx} = \\frac{2}{\\pi} \\frac{1}{\\sqrt{1-a^2}} a'$$\n",
    "\n",
    "* Evaluar el valor de $a$ y $a'$:\n",
    "$$\\frac{dF(x)}{dx} = \\frac{2}{\\pi \\sqrt{1-\\sqrt{x}^2}} \\frac{1}{2\\sqrt{x}}$$ \n",
    "\n",
    "* Simplicar:\n",
    "$$\\frac{dF(x)}{dx} = \\frac{1}{\\pi\\sqrt{(1-x)x}}$$\n",
    "\n",
    "$$\\frac{dF(x)}{dx} = \\frac{1}{\\pi\\sqrt{-(x-1)x}}$$"
   ]
  },
  {
   "cell_type": "code",
   "execution_count": 24,
   "metadata": {
    "scrolled": true
   },
   "outputs": [
    {
     "name": "stderr",
     "output_type": "stream",
     "text": [
      "<ipython-input-24-31673e31d6b5>:1: RuntimeWarning: divide by zero encountered in true_divide\n",
      "  derivada = lambda x: 1/(np.pi * np.sqrt(-(x-1)*x))\n"
     ]
    },
    {
     "data": {
      "image/png": "[encoded data removed]",
      "text/plain": [
       "<Figure size 432x288 with 1 Axes>"
      ]
     },
     "metadata": {
      "needs_background": "light"
     },
     "output_type": "display_data"
    }
   ],
   "source": [
    "derivada = lambda x: 1/(np.pi * np.sqrt(-(x-1)*x))\n",
    "x1 = np.arange(0,1,0.001)\n",
    "\n",
    "plt.plot(x1,derivada(x1),'-r',color='purple')\n",
    "plt.hist(x,100,density=True,color='pink')\n",
    "plt.title('Histograma Inciso 1')\n",
    "plt.show()"
   ]
  },
  {
   "cell_type": "markdown",
   "metadata": {},
   "source": [
    "#### Inciso 2"
   ]
  },
  {
   "cell_type": "code",
   "execution_count": 25,
   "metadata": {},
   "outputs": [
    {
     "data": {
      "text/plain": [
       "array([5.90490000e-06, 1.43685900e-04, 1.59038640e-03, 1.05920784e-02,\n",
       "       4.73489874e-02, 1.50268333e-01, 3.50389282e-01, 6.17217214e-01,\n",
       "       8.50691654e-01, 9.71752475e-01])"
      ]
     },
     "execution_count": 25,
     "metadata": {},
     "output_type": "execute_result"
    }
   ],
   "source": [
    "#Probabilidad acumulada\n",
    "n=10\n",
    "p=0.7\n",
    "def bin_acum(n,p):\n",
    "    v = np.zeros(n)\n",
    "    v[0] = (1-p)**n\n",
    "    def llenado(i):\n",
    "        nonlocal v\n",
    "        v[i+1]=(((n-i)/(i+1))*(p/(1-p)))*v[i]\n",
    "    [llenado(i) for i in range(n-1)]\n",
    "    return np.cumsum(v)\n",
    "p_acum = bin_acum(n,p)\n",
    "p_acum"
   ]
  },
  {
   "cell_type": "code",
   "execution_count": 35,
   "metadata": {},
   "outputs": [],
   "source": [
    "#Funciones en clase\n",
    "def Gen_distr_discreta(p_acum: 'P.Acumulada de la distribución a generar',\n",
    "                       indices: 'valores reales a generar aleatoriamente',\n",
    "                       N: 'cantidad de números aleatorios a generar'):\n",
    "    U =np.random.rand(N)\n",
    "    rand2reales = {i: idx for i, idx in enumerate(indices)}\n",
    "    y = pd.Series([sum([1 for p in p_acum if p < ui]) for ui in U]).map(rand2reales)\n",
    "    return y\n",
    "\n",
    "def plot_histogram_discrete(distribucion:'señal de varibles aleatorias de un distribución DISCRETA dada',\n",
    "                            label:'label del legend a aparecer en el gráfica',\n",
    "                            densidad:'por defecto regresa el histograma en densidad'=True):\n",
    "    plt.figure(figsize=[10,4])\n",
    "    y, x = np.histogram(distribucion, bins=len(set(distribucion)), density=densidad) \n",
    "    plt.bar(x[1:], y, label=label)\n",
    "    plt.legend()\n",
    "    plt.show()"
   ]
  },
  {
   "cell_type": "code",
   "execution_count": 36,
   "metadata": {},
   "outputs": [
    {
     "data": {
      "image/png": "[encoded data removed]",
      "text/plain": [
       "<Figure size 720x288 with 1 Axes>"
      ]
     },
     "metadata": {
      "needs_background": "light"
     },
     "output_type": "display_data"
    }
   ],
   "source": [
    "t_binom = Gen_distr_discreta(p_acum,np.arange(0, n+1),N)\n",
    "plot_histogram_discrete(t_binom,'Histograma')"
   ]
  },
  {
   "cell_type": "code",
   "execution_count": null,
   "metadata": {},
   "outputs": [],
   "source": []
  }
 ],
 "metadata": {
  "kernelspec": {
   "display_name": "Python 3",
   "language": "python",
   "name": "python3"
  },
  "language_info": {
   "codemirror_mode": {
    "name": "ipython",
    "version": 3
   },
   "file_extension": ".py",
   "mimetype": "text/x-python",
   "name": "python",
   "nbconvert_exporter": "python",
   "pygments_lexer": "ipython3",
   "version": "3.8.3"
  }
 },
 "nbformat": 4,
 "nbformat_minor": 4
}
